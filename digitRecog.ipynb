{
 "cells": [
  {
   "cell_type": "code",
   "execution_count": 1,
   "id": "13e8ce6a",
   "metadata": {},
   "outputs": [],
   "source": [
    "import pandas as pd\n",
    "import tensorflow as tf\n",
    "import numpy as np\n",
    "import cv2 as cv  \n",
    "import matplotlib.pyplot as plt\n",
    "from tensorflow.python.keras.metrics import accuracy"
   ]
  },
  {
   "cell_type": "code",
   "execution_count": 2,
   "id": "dcca6f4e",
   "metadata": {},
   "outputs": [],
   "source": [
    "data = tf.keras.datasets.mnist"
   ]
  },
  {
   "cell_type": "markdown",
   "id": "07a7f0a4",
   "metadata": {},
   "source": [
    "The MNIST dataset is a large database of handwritten digits. It commonly used for training various image processing systems. \n",
    "\n",
    "MNIST is short for Modified National Institute of Standards and Technology database.\n",
    "\n",
    "This dataset is used for training models to recognize handwritten digits. This has an application in scanning for handwritten pin-codes on letters."
   ]
  },
  {
   "cell_type": "code",
   "execution_count": 3,
   "id": "d0856097",
   "metadata": {},
   "outputs": [],
   "source": [
    "(x_train,y_train),(x_test,y_test) = data.load_data()\n",
    "# split the data in training set as tuple"
   ]
  },
  {
   "cell_type": "code",
   "execution_count": 4,
   "id": "4ec0bbfd",
   "metadata": {},
   "outputs": [],
   "source": [
    "x_train = tf.keras.utils.normalize(x_train, axis = 1)"
   ]
  },
  {
   "cell_type": "code",
   "execution_count": 5,
   "id": "f7f9a912",
   "metadata": {},
   "outputs": [],
   "source": [
    "x_test = tf.keras.utils.normalize(x_test, axis = 1)"
   ]
  },
  {
   "cell_type": "code",
   "execution_count": 6,
   "id": "32f7c9a6",
   "metadata": {},
   "outputs": [],
   "source": [
    "model= tf.keras.models.Sequential()"
   ]
  },
  {
   "cell_type": "code",
   "execution_count": 7,
   "id": "c7b6c496",
   "metadata": {},
   "outputs": [],
   "source": [
    "model.add(tf.keras.layers.Flatten(input_shape=(28,28)))"
   ]
  },
  {
   "cell_type": "markdown",
   "id": "2c950123",
   "metadata": {},
   "source": [
    "Flattening is converting the data into a 1-dimensional array for inputting it to the next layer. We flatten the output of the convolutional layers to create a single long feature vector. ... In other words, we put all the pixel data in one line and make connections with the final layer."
   ]
  },
  {
   "cell_type": "code",
   "execution_count": 8,
   "id": "2913c89e",
   "metadata": {},
   "outputs": [],
   "source": [
    "model.add(tf.keras.layers.Dense(units=128,activation=tf.nn.relu))\n",
    "model.add(tf.keras.layers.Dense(units=128,activation=tf.nn.relu))"
   ]
  },
  {
   "cell_type": "markdown",
   "id": "8b40b88b",
   "metadata": {},
   "source": [
    "A dense layer is a kind of hidden layer where every node is connected to every other node in the next layer."
   ]
  },
  {
   "cell_type": "code",
   "execution_count": 9,
   "id": "332d6e46",
   "metadata": {},
   "outputs": [],
   "source": [
    "model.add(tf.keras.layers.Dense(units=10,activation=tf.nn.softmax))\n",
    "model.compile(optimizer='adam' , loss='sparse_categorical_crossentropy',metrics=['accuracy'])"
   ]
  },
  {
   "cell_type": "code",
   "execution_count": 10,
   "id": "b74e6f03",
   "metadata": {},
   "outputs": [
    {
     "name": "stdout",
     "output_type": "stream",
     "text": [
      "Epoch 1/3\n",
      "1875/1875 [==============================] - 2s 1ms/step - loss: 0.2687 - accuracy: 0.9217\n",
      "Epoch 2/3\n",
      "1875/1875 [==============================] - 2s 1ms/step - loss: 0.1124 - accuracy: 0.9645\n",
      "Epoch 3/3\n",
      "1875/1875 [==============================] - 2s 1ms/step - loss: 0.0749 - accuracy: 0.9758\n"
     ]
    },
    {
     "data": {
      "text/plain": [
       "<keras.callbacks.History at 0x1e72e5cf850>"
      ]
     },
     "execution_count": 10,
     "metadata": {},
     "output_type": "execute_result"
    }
   ],
   "source": [
    "model.fit(x_train,y_train, epochs=3)"
   ]
  },
  {
   "cell_type": "markdown",
   "id": "2ebc2e02",
   "metadata": {},
   "source": [
    "As the number of epochs increases beyond 11, chances of overfitting of the model on training data increases."
   ]
  },
  {
   "cell_type": "code",
   "execution_count": 11,
   "id": "9037560b",
   "metadata": {},
   "outputs": [
    {
     "name": "stdout",
     "output_type": "stream",
     "text": [
      "313/313 [==============================] - 0s 918us/step - loss: 0.0964 - accuracy: 0.9692\n",
      "0.9692000150680542\n",
      "0.09643067419528961\n"
     ]
    }
   ],
   "source": [
    "loss , accuracy  = model.evaluate(x_test,y_test)\n",
    "print(accuracy)\n",
    "print(loss)"
   ]
  },
  {
   "cell_type": "code",
   "execution_count": 12,
   "id": "c263800c",
   "metadata": {},
   "outputs": [],
   "source": [
    "# for x in range(1,9):\n",
    "#     img = cv.imread(f'{x}.png')[:,:,0]\n",
    "#     img = np.array([img])\n",
    "#     prediction = model.predict(img)\n",
    "#     print('----------')\n",
    "#     print('pred = ', np.argmax(prediction))\n",
    "#     print('----------')\n",
    "#     plt.imshow(img[0], cmap = plt.cm.binary)\n",
    "#     plt.show()"
   ]
  },
  {
   "cell_type": "code",
   "execution_count": 19,
   "id": "84972713",
   "metadata": {},
   "outputs": [
    {
     "name": "stdout",
     "output_type": "stream",
     "text": [
      "----------\n",
      "pred =  3\n",
      "----------\n"
     ]
    },
    {
     "data": {
      "image/png": "[encoded data removed]",
      "text/plain": [
       "<Figure size 432x288 with 1 Axes>"
      ]
     },
     "metadata": {
      "needs_background": "light"
     },
     "output_type": "display_data"
    },
    {
     "name": "stdout",
     "output_type": "stream",
     "text": [
      "----------\n",
      "pred =  4\n",
      "----------\n"
     ]
    },
    {
     "data": {
      "image/png": "[encoded data removed]",
      "text/plain": [
       "<Figure size 432x288 with 1 Axes>"
      ]
     },
     "metadata": {
      "needs_background": "light"
     },
     "output_type": "display_data"
    }
   ],
   "source": [
    "for x in range(1,3):\n",
    "    img = cv.imread(f'{x}.png')[:,:,0]\n",
    "    img = np.invert(np.array([img]))\n",
    "    prediction = model.predict(img)\n",
    "    print('----------')\n",
    "    print('pred = ', np.argmax(prediction))\n",
    "    print('----------')\n",
    "    plt.imshow(img[0], cmap = plt.cm.binary)\n",
    "    plt.show()"
   ]
  },
  {
   "cell_type": "code",
   "execution_count": null,
   "id": "d165dd6d",
   "metadata": {},
   "outputs": [],
   "source": []
  }
 ],
 "metadata": {
  "kernelspec": {
   "display_name": "Python 3 (ipykernel)",
   "language": "python",
   "name": "python3"
  },
  "language_info": {
   "codemirror_mode": {
    "name": "ipython",
    "version": 3
   },
   "file_extension": ".py",
   "mimetype": "text/x-python",
   "name": "python",
   "nbconvert_exporter": "python",
   "pygments_lexer": "ipython3",
   "version": "3.8.8"
  }
 },
 "nbformat": 4,
 "nbformat_minor": 5
}
